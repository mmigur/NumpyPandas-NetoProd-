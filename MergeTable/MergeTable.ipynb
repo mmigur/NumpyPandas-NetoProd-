{
 "cells": [
  {
   "cell_type": "code",
   "execution_count": 180,
   "id": "3b75c585",
   "metadata": {},
   "outputs": [],
   "source": [
    "import pandas as pd\n",
    "import re\n",
    "import numpy as np"
   ]
  },
  {
   "cell_type": "markdown",
   "id": "a85604e8",
   "metadata": {},
   "source": [
    "## Задание 1\n",
    "Для датафрейма log из материалов занятия создайте столбец source_type по правилам:\n",
    "\n",
    "* если источник traffic_source равен Yandex или Google, то в source_type ставится organic;\n",
    "* для источников paid и email из России ставим ad;\n",
    "* для источников paid и email не из России ставим other;\n",
    "* все остальные варианты берём из traffic_source без изменений."
   ]
  },
  {
   "cell_type": "code",
   "execution_count": 181,
   "id": "fe22c739",
   "metadata": {},
   "outputs": [
    {
     "data": {
      "text/html": [
       "<div>\n",
       "<style scoped>\n",
       "    .dataframe tbody tr th:only-of-type {\n",
       "        vertical-align: middle;\n",
       "    }\n",
       "\n",
       "    .dataframe tbody tr th {\n",
       "        vertical-align: top;\n",
       "    }\n",
       "\n",
       "    .dataframe thead th {\n",
       "        text-align: right;\n",
       "    }\n",
       "</style>\n",
       "<table border=\"1\" class=\"dataframe\">\n",
       "  <thead>\n",
       "    <tr style=\"text-align: right;\">\n",
       "      <th></th>\n",
       "      <th>timestamp</th>\n",
       "      <th>visit_id</th>\n",
       "      <th>url</th>\n",
       "      <th>region</th>\n",
       "      <th>user_id</th>\n",
       "      <th>traffic_source</th>\n",
       "    </tr>\n",
       "  </thead>\n",
       "  <tbody>\n",
       "    <tr>\n",
       "      <th>0</th>\n",
       "      <td>1549980692</td>\n",
       "      <td>e3b0c44298</td>\n",
       "      <td>https://host.ru/3c19b4ef7371864fa3</td>\n",
       "      <td>Russia</td>\n",
       "      <td>b1613cc09f</td>\n",
       "      <td>yandex</td>\n",
       "    </tr>\n",
       "    <tr>\n",
       "      <th>1</th>\n",
       "      <td>1549980704</td>\n",
       "      <td>6e340b9cff</td>\n",
       "      <td>https://host.ru/c8d9213a31839f9a3a</td>\n",
       "      <td>Russia</td>\n",
       "      <td>4c3ec14bee</td>\n",
       "      <td>direct</td>\n",
       "    </tr>\n",
       "    <tr>\n",
       "      <th>2</th>\n",
       "      <td>1549980715</td>\n",
       "      <td>96a296d224</td>\n",
       "      <td>https://host.ru/b8b58337d272ee7b15</td>\n",
       "      <td>Russia</td>\n",
       "      <td>a8c40697fb</td>\n",
       "      <td>yandex</td>\n",
       "    </tr>\n",
       "    <tr>\n",
       "      <th>3</th>\n",
       "      <td>1549980725</td>\n",
       "      <td>709e80c884</td>\n",
       "      <td>https://host.ru/b8b58337d272ee7b15</td>\n",
       "      <td>Russia</td>\n",
       "      <td>521ac1d6a0</td>\n",
       "      <td>yandex</td>\n",
       "    </tr>\n",
       "    <tr>\n",
       "      <th>4</th>\n",
       "      <td>1549980736</td>\n",
       "      <td>df3f619804</td>\n",
       "      <td>https://host.ru/b8b58337d272ee7b15</td>\n",
       "      <td>Russia</td>\n",
       "      <td>d7323c571c</td>\n",
       "      <td>yandex</td>\n",
       "    </tr>\n",
       "  </tbody>\n",
       "</table>\n",
       "</div>"
      ],
      "text/plain": [
       "    timestamp    visit_id                                 url  region  \\\n",
       "0  1549980692  e3b0c44298  https://host.ru/3c19b4ef7371864fa3  Russia   \n",
       "1  1549980704  6e340b9cff  https://host.ru/c8d9213a31839f9a3a  Russia   \n",
       "2  1549980715  96a296d224  https://host.ru/b8b58337d272ee7b15  Russia   \n",
       "3  1549980725  709e80c884  https://host.ru/b8b58337d272ee7b15  Russia   \n",
       "4  1549980736  df3f619804  https://host.ru/b8b58337d272ee7b15  Russia   \n",
       "\n",
       "      user_id traffic_source  \n",
       "0  b1613cc09f         yandex  \n",
       "1  4c3ec14bee         direct  \n",
       "2  a8c40697fb         yandex  \n",
       "3  521ac1d6a0         yandex  \n",
       "4  d7323c571c         yandex  "
      ]
     },
     "execution_count": 181,
     "metadata": {},
     "output_type": "execute_result"
    }
   ],
   "source": [
    "log = pd.read_csv('./Data/visit_log.csv', sep=';')\n",
    "log.head()"
   ]
  },
  {
   "cell_type": "code",
   "execution_count": 182,
   "id": "952e7a06",
   "metadata": {},
   "outputs": [],
   "source": [
    "def source_type_value(df):\n",
    "    if (df['traffic_source'] in 'yandex') or (df['traffic_source'] in 'google'):\n",
    "        return 'organic'\n",
    "    elif ((df['traffic_source'] in 'yandex') or (df['traffic_source'] in 'google')) and (df['region'] == 'Russia'):\n",
    "        return 'ad'\n",
    "    elif ((df['traffic_source'] in 'yandex') or (df['traffic_source'] in 'google')) and (df['region'] != 'Russia'):\n",
    "        return 'other'\n",
    "    else:\n",
    "        return df['traffic_source']"
   ]
  },
  {
   "cell_type": "code",
   "execution_count": 183,
   "id": "c5cd1079",
   "metadata": {},
   "outputs": [],
   "source": [
    "log['traffic_type'] = log.apply(source_type_value, axis=1)    "
   ]
  },
  {
   "cell_type": "markdown",
   "id": "8d0880c1",
   "metadata": {},
   "source": [
    "## Задание 2\n",
    "В файле URLs.txt содержатся URL страниц новостного сайта. Вам нужно отфильтровать его по адресам страниц с текстами новостей. Известно, что шаблон страницы новостей имеет внутри URL конструкцию: /, затем 8 цифр, затем дефис. \n",
    "\n",
    "Выполните действия:\n",
    "\n",
    "* Прочитайте содержимое файла с датафрейм.\n",
    "* Отфильтруйте страницы с текстом новостей, используя метод str.contains и регулярное выражение в соответствие с заданным шаблоном."
   ]
  },
  {
   "cell_type": "code",
   "execution_count": 184,
   "id": "47c5ea18",
   "metadata": {},
   "outputs": [
    {
     "data": {
      "text/html": [
       "<div>\n",
       "<style scoped>\n",
       "    .dataframe tbody tr th:only-of-type {\n",
       "        vertical-align: middle;\n",
       "    }\n",
       "\n",
       "    .dataframe tbody tr th {\n",
       "        vertical-align: top;\n",
       "    }\n",
       "\n",
       "    .dataframe thead th {\n",
       "        text-align: right;\n",
       "    }\n",
       "</style>\n",
       "<table border=\"1\" class=\"dataframe\">\n",
       "  <thead>\n",
       "    <tr style=\"text-align: right;\">\n",
       "      <th></th>\n",
       "      <th>url</th>\n",
       "    </tr>\n",
       "  </thead>\n",
       "  <tbody>\n",
       "    <tr>\n",
       "      <th>0</th>\n",
       "      <td>/world/</td>\n",
       "    </tr>\n",
       "    <tr>\n",
       "      <th>1</th>\n",
       "      <td>/latest/</td>\n",
       "    </tr>\n",
       "    <tr>\n",
       "      <th>2</th>\n",
       "      <td>/?updated=top</td>\n",
       "    </tr>\n",
       "    <tr>\n",
       "      <th>3</th>\n",
       "      <td>/politics/36188461-s-marta-zhizn-rossiyan-susc...</td>\n",
       "    </tr>\n",
       "    <tr>\n",
       "      <th>4</th>\n",
       "      <td>/world/36007585-tramp-pridumal-kak-reshit-ukra...</td>\n",
       "    </tr>\n",
       "  </tbody>\n",
       "</table>\n",
       "</div>"
      ],
      "text/plain": [
       "                                                 url\n",
       "0                                            /world/\n",
       "1                                           /latest/\n",
       "2                                      /?updated=top\n",
       "3  /politics/36188461-s-marta-zhizn-rossiyan-susc...\n",
       "4  /world/36007585-tramp-pridumal-kak-reshit-ukra..."
      ]
     },
     "execution_count": 184,
     "metadata": {},
     "output_type": "execute_result"
    }
   ],
   "source": [
    "urls = pd.read_csv('./Data/URLs.txt')\n",
    "urls.head()"
   ]
  },
  {
   "cell_type": "code",
   "execution_count": 185,
   "id": "3a182996",
   "metadata": {},
   "outputs": [
    {
     "data": {
      "text/html": [
       "<div>\n",
       "<style scoped>\n",
       "    .dataframe tbody tr th:only-of-type {\n",
       "        vertical-align: middle;\n",
       "    }\n",
       "\n",
       "    .dataframe tbody tr th {\n",
       "        vertical-align: top;\n",
       "    }\n",
       "\n",
       "    .dataframe thead th {\n",
       "        text-align: right;\n",
       "    }\n",
       "</style>\n",
       "<table border=\"1\" class=\"dataframe\">\n",
       "  <thead>\n",
       "    <tr style=\"text-align: right;\">\n",
       "      <th></th>\n",
       "      <th>url</th>\n",
       "    </tr>\n",
       "  </thead>\n",
       "  <tbody>\n",
       "    <tr>\n",
       "      <th>3</th>\n",
       "      <td>/politics/36188461-s-marta-zhizn-rossiyan-susc...</td>\n",
       "    </tr>\n",
       "    <tr>\n",
       "      <th>4</th>\n",
       "      <td>/world/36007585-tramp-pridumal-kak-reshit-ukra...</td>\n",
       "    </tr>\n",
       "    <tr>\n",
       "      <th>5</th>\n",
       "      <td>/science/36157853-nasa-sobiraet-ekstrennuyu-pr...</td>\n",
       "    </tr>\n",
       "    <tr>\n",
       "      <th>6</th>\n",
       "      <td>/video/36001498-poyavilis-pervye-podrobnosti-g...</td>\n",
       "    </tr>\n",
       "    <tr>\n",
       "      <th>7</th>\n",
       "      <td>/world/36007585-tramp-pridumal-kak-reshit-ukra...</td>\n",
       "    </tr>\n",
       "    <tr>\n",
       "      <th>...</th>\n",
       "      <td>...</td>\n",
       "    </tr>\n",
       "    <tr>\n",
       "      <th>88</th>\n",
       "      <td>/cis/35984145-kreml-prokommentiroval-soobschen...</td>\n",
       "    </tr>\n",
       "    <tr>\n",
       "      <th>89</th>\n",
       "      <td>/video/36071019-olimpiyskie-obekty-rio-prevrat...</td>\n",
       "    </tr>\n",
       "    <tr>\n",
       "      <th>90</th>\n",
       "      <td>/science/36151301-nazvano-posledstvie-zloupotr...</td>\n",
       "    </tr>\n",
       "    <tr>\n",
       "      <th>91</th>\n",
       "      <td>/incidents/36027330-vospitatelnitsu-zatravili-...</td>\n",
       "    </tr>\n",
       "    <tr>\n",
       "      <th>92</th>\n",
       "      <td>/world/36103095-dominikanskih-zhurnalistov-ubi...</td>\n",
       "    </tr>\n",
       "  </tbody>\n",
       "</table>\n",
       "<p>82 rows × 1 columns</p>\n",
       "</div>"
      ],
      "text/plain": [
       "                                                  url\n",
       "3   /politics/36188461-s-marta-zhizn-rossiyan-susc...\n",
       "4   /world/36007585-tramp-pridumal-kak-reshit-ukra...\n",
       "5   /science/36157853-nasa-sobiraet-ekstrennuyu-pr...\n",
       "6   /video/36001498-poyavilis-pervye-podrobnosti-g...\n",
       "7   /world/36007585-tramp-pridumal-kak-reshit-ukra...\n",
       "..                                                ...\n",
       "88  /cis/35984145-kreml-prokommentiroval-soobschen...\n",
       "89  /video/36071019-olimpiyskie-obekty-rio-prevrat...\n",
       "90  /science/36151301-nazvano-posledstvie-zloupotr...\n",
       "91  /incidents/36027330-vospitatelnitsu-zatravili-...\n",
       "92  /world/36103095-dominikanskih-zhurnalistov-ubi...\n",
       "\n",
       "[82 rows x 1 columns]"
      ]
     },
     "execution_count": 185,
     "metadata": {},
     "output_type": "execute_result"
    }
   ],
   "source": [
    "urls[urls['url'].str.contains(pat=r'/\\w+/\\d{8}-', regex=True)]"
   ]
  },
  {
   "cell_type": "markdown",
   "id": "f44ced6c",
   "metadata": {},
   "source": [
    "## Задание 3\n",
    "Используйте файл с оценками фильмов ml-latest-small/ratings.csv. Посчитайте среднее время жизни пользователей, которые выставили более 100 оценок. Под временем жизни понимается разница между максимальным и минимальным значениями столбца timestamp для данного значения userId."
   ]
  },
  {
   "cell_type": "code",
   "execution_count": 186,
   "id": "b352777e",
   "metadata": {},
   "outputs": [
    {
     "data": {
      "text/html": [
       "<div>\n",
       "<style scoped>\n",
       "    .dataframe tbody tr th:only-of-type {\n",
       "        vertical-align: middle;\n",
       "    }\n",
       "\n",
       "    .dataframe tbody tr th {\n",
       "        vertical-align: top;\n",
       "    }\n",
       "\n",
       "    .dataframe thead th {\n",
       "        text-align: right;\n",
       "    }\n",
       "</style>\n",
       "<table border=\"1\" class=\"dataframe\">\n",
       "  <thead>\n",
       "    <tr style=\"text-align: right;\">\n",
       "      <th></th>\n",
       "      <th>userId</th>\n",
       "      <th>movieId</th>\n",
       "      <th>rating</th>\n",
       "      <th>timestamp</th>\n",
       "    </tr>\n",
       "  </thead>\n",
       "  <tbody>\n",
       "    <tr>\n",
       "      <th>0</th>\n",
       "      <td>1</td>\n",
       "      <td>31</td>\n",
       "      <td>2.5</td>\n",
       "      <td>1260759144</td>\n",
       "    </tr>\n",
       "    <tr>\n",
       "      <th>1</th>\n",
       "      <td>1</td>\n",
       "      <td>1029</td>\n",
       "      <td>3.0</td>\n",
       "      <td>1260759179</td>\n",
       "    </tr>\n",
       "    <tr>\n",
       "      <th>2</th>\n",
       "      <td>1</td>\n",
       "      <td>1061</td>\n",
       "      <td>3.0</td>\n",
       "      <td>1260759182</td>\n",
       "    </tr>\n",
       "    <tr>\n",
       "      <th>3</th>\n",
       "      <td>1</td>\n",
       "      <td>1129</td>\n",
       "      <td>2.0</td>\n",
       "      <td>1260759185</td>\n",
       "    </tr>\n",
       "    <tr>\n",
       "      <th>4</th>\n",
       "      <td>1</td>\n",
       "      <td>1172</td>\n",
       "      <td>4.0</td>\n",
       "      <td>1260759205</td>\n",
       "    </tr>\n",
       "  </tbody>\n",
       "</table>\n",
       "</div>"
      ],
      "text/plain": [
       "   userId  movieId  rating   timestamp\n",
       "0       1       31     2.5  1260759144\n",
       "1       1     1029     3.0  1260759179\n",
       "2       1     1061     3.0  1260759182\n",
       "3       1     1129     2.0  1260759185\n",
       "4       1     1172     4.0  1260759205"
      ]
     },
     "execution_count": 186,
     "metadata": {},
     "output_type": "execute_result"
    }
   ],
   "source": [
    "ratings = pd.read_csv('./Data/ratings.csv')\n",
    "ratings.head()"
   ]
  },
  {
   "cell_type": "code",
   "execution_count": 187,
   "id": "473575a3",
   "metadata": {},
   "outputs": [],
   "source": [
    "# создание копии столбца timestamp, чтобы в далее избавиться от мульти-индекса \n",
    "ratings['timestamp_copy'] = ratings['timestamp']"
   ]
  },
  {
   "cell_type": "code",
   "execution_count": 188,
   "id": "21993036",
   "metadata": {},
   "outputs": [],
   "source": [
    "\"\"\"\n",
    "Группировка по пользователю, подсчёт количества оценок, \n",
    "минимальное и максимальное время.\n",
    "Фильтрация по условию, что рейтинг больше 100\n",
    "\"\"\"\n",
    "user_group_by_rating = ratings.groupby('userId').agg({\n",
    "    'rating': 'count', \n",
    "    'timestamp': 'max',\n",
    "    'timestamp_copy': 'min'}).query('rating > 100')"
   ]
  },
  {
   "cell_type": "code",
   "execution_count": 189,
   "id": "14b8d07f",
   "metadata": {},
   "outputs": [],
   "source": [
    "# Размах\n",
    "user_group_by_rating['scope'] = user_group_by_rating['timestamp'] - user_group_by_rating['timestamp_copy']"
   ]
  },
  {
   "cell_type": "code",
   "execution_count": 190,
   "id": "27627aff",
   "metadata": {},
   "outputs": [],
   "source": [
    "# Удаление не нужных столбцов и подсчёт среднего значения жизни пользователя.\n",
    "user_group_by_rating = user_group_by_rating.drop(['timestamp', 'timestamp_copy'], axis=1)\n",
    "mean_time_life = int(np.mean(user_group_by_rating['scope']))"
   ]
  },
  {
   "cell_type": "markdown",
   "id": "7fa939e4",
   "metadata": {},
   "source": [
    "## Задание 4\n",
    "Дана статистика услуг перевозок клиентов компании по типам:\n",
    "- rzd - железнодорожные перевозки\n",
    "- auto - автомобильные перевозки\n",
    "- air - воздушные перевозки\n",
    "- client_base - адреса клиентов\n",
    "\n",
    "Нужно сформировать две таблицы:\n",
    "\n",
    "* таблицу с тремя типами выручки для каждого client_id без указания адреса клиента;\n",
    "* аналогичную таблицу по типам выручки с указанием адреса клиента.\n",
    "* Обратите внимание, что в процессе объединения таблиц данные не должны теряться."
   ]
  },
  {
   "cell_type": "code",
   "execution_count": 191,
   "id": "97269ab9",
   "metadata": {},
   "outputs": [],
   "source": [
    "rzd = pd.DataFrame(\n",
    "    {\n",
    "        'client_id': [111, 112, 113, 114, 115],\n",
    "        'rzd_revenue': [1093, 2810, 10283, 5774, 981]\n",
    "    }\n",
    ")"
   ]
  },
  {
   "cell_type": "code",
   "execution_count": 192,
   "id": "ee76300b",
   "metadata": {},
   "outputs": [],
   "source": [
    "auto = pd.DataFrame(\n",
    "    {\n",
    "        'client_id': [113, 114, 115, 116, 117],\n",
    "        'auto_revenue': [57483, 83, 912, 4834, 98]\n",
    "    }\n",
    ")"
   ]
  },
  {
   "cell_type": "code",
   "execution_count": 193,
   "id": "5acf2ac5",
   "metadata": {},
   "outputs": [],
   "source": [
    "air = pd.DataFrame(\n",
    "    {\n",
    "        'client_id': [115, 116, 117, 118],\n",
    "        'air_revenue': [81, 4, 13, 173]\n",
    "    }\n",
    ")"
   ]
  },
  {
   "cell_type": "code",
   "execution_count": 194,
   "id": "7cd05fd4",
   "metadata": {},
   "outputs": [],
   "source": [
    "client_base = pd.DataFrame(\n",
    "    {\n",
    "        'client_id': [111, 112, 113, 114, 115, 116, 117, 118],\n",
    "        'address': ['Комсомольская 4', 'Энтузиастов 8а', 'Левобережная 1а', 'Мира 14', 'ЗЖБИиДК 1', \n",
    "                    'Строителей 18', 'Панфиловская 33', 'Мастеркова 4']\n",
    "    }\n",
    ")"
   ]
  },
  {
   "cell_type": "code",
   "execution_count": 195,
   "id": "5637c0d4",
   "metadata": {},
   "outputs": [],
   "source": [
    "revenue_types = pd.DataFrame(client_base['client_id']) \\\n",
    "    .merge(rzd, how='left', on='client_id') \\\n",
    "    .merge(auto, how='left', on='client_id') \\\n",
    "    .merge(air, how='left', on='client_id').fillna(0)"
   ]
  },
  {
   "cell_type": "code",
   "execution_count": 196,
   "id": "ddb4612c",
   "metadata": {},
   "outputs": [],
   "source": [
    "revenue_types_with_adress = client_base \\\n",
    "    .merge(rzd, how='left', on='client_id') \\\n",
    "    .merge(auto, how='left', on='client_id') \\\n",
    "    .merge(air, how='left', on='client_id').fillna(0)"
   ]
  },
  {
   "cell_type": "code",
   "execution_count": null,
   "id": "98487d7a",
   "metadata": {},
   "outputs": [],
   "source": []
  }
 ],
 "metadata": {
  "kernelspec": {
   "display_name": "Python 3 (ipykernel)",
   "language": "python",
   "name": "python3"
  },
  "language_info": {
   "codemirror_mode": {
    "name": "ipython",
    "version": 3
   },
   "file_extension": ".py",
   "mimetype": "text/x-python",
   "name": "python",
   "nbconvert_exporter": "python",
   "pygments_lexer": "ipython3",
   "version": "3.9.13"
  }
 },
 "nbformat": 4,
 "nbformat_minor": 5
}
