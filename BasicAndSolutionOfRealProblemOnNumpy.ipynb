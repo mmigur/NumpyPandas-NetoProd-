{
 "cells": [
  {
   "cell_type": "code",
   "execution_count": 1,
   "id": "7b2b2c5e",
   "metadata": {},
   "outputs": [],
   "source": [
    "import numpy as np"
   ]
  },
  {
   "cell_type": "markdown",
   "id": "2825ee44",
   "metadata": {},
   "source": [
    "# Задание 1\n",
    "Создайте numpy array с элементами от числа N до 0 (например, для N = 10 это будет array([9, 8, 7, 6, 5, 4, 3, 2, 1, 0]))."
   ]
  },
  {
   "cell_type": "code",
   "execution_count": 2,
   "id": "e7468e63",
   "metadata": {},
   "outputs": [
    {
     "data": {
      "text/plain": [
       "array([9, 8, 7, 6, 5, 4, 3, 2, 1, 0])"
      ]
     },
     "execution_count": 2,
     "metadata": {},
     "output_type": "execute_result"
    }
   ],
   "source": [
    "array = np.arange(9, -1, -1)\n",
    "array"
   ]
  },
  {
   "cell_type": "markdown",
   "id": "24dd6b95",
   "metadata": {},
   "source": [
    "## Задание 2\n",
    "Создайте диагональную матрицу с элементами от N до 0. Посчитайте сумму ее значений на диагонали."
   ]
  },
  {
   "cell_type": "code",
   "execution_count": 3,
   "id": "4c266bcc",
   "metadata": {},
   "outputs": [
    {
     "data": {
      "text/plain": [
       "45"
      ]
     },
     "execution_count": 3,
     "metadata": {},
     "output_type": "execute_result"
    }
   ],
   "source": [
    "matrix = np.diag(np.arange(9, -1, -1), k=0)\n",
    "np.sum(np.diagonal(matrix))"
   ]
  },
  {
   "cell_type": "markdown",
   "id": "1c0967da",
   "metadata": {},
   "source": [
    "## Задание 3\n",
    "Решите систему уравнений:\n",
    "```\n",
    "4x + 2y + z = 4\n",
    "x + 3y = 12\n",
    "5y + 4z = -3\n",
    "```"
   ]
  },
  {
   "cell_type": "code",
   "execution_count": 10,
   "id": "4d3c8b7f",
   "metadata": {},
   "outputs": [
    {
     "data": {
      "text/plain": [
       "True"
      ]
     },
     "execution_count": 10,
     "metadata": {},
     "output_type": "execute_result"
    }
   ],
   "source": [
    "coefficient = np.array([[4, 2, 1], [1, 3, 0], [0, 5, 4]]) # Значение коэффициентов\n",
    "value = np.array([4, 12, -3]) # Значение в правой части уравнения\n",
    "np.round(np.linalg.solve(coefficient, value), 2) # Решение системы уравнений\n",
    "np.allclose(np.dot(coefficient, np.linalg.solve(coefficient, value)), value) # Проверка верности."
   ]
  },
  {
   "cell_type": "markdown",
   "id": "1a3749c8",
   "metadata": {},
   "source": [
    "## Задание 4\n",
    "Имеется матрица покупок в интернет-магазине. \n",
    "\n",
    "``` \n",
    "users_stats = np.array(\n",
    "    [\n",
    "        [2, 1, 0, 0, 0, 0],\n",
    "        [1, 1, 2, 1, 0, 0],\n",
    "        [2, 0, 1, 0, 0, 0],\n",
    "        [1, 1, 2, 1, 0, 1],\n",
    "        [0, 0, 1, 2, 0, 0],\n",
    "        [0, 0, 0, 0, 0, 5],\n",
    "        [1, 0, 0, 0, 0, 0],\n",
    "        [0, 1, 1, 0, 0, 0],\n",
    "        [0, 0, 0, 1, 1, 3],\n",
    "        [1, 0, 0, 2, 1, 4]\n",
    "    ], \n",
    "    np.int32\n",
    ")\n",
    "```\n",
    "\n",
    "Столбец А - ID пользователя. Остальные столбцы - количество покупок категорий товаров этим пользователем\n",
    "\n",
    "На сайт заходит очередной посетитель, о покупках которого известно следующее: \n",
    "```\n",
    "next_user_stats = np.array([0, 1, 2, 0, 0, 0])\n",
    "```\n",
    "\n",
    "Найдите индекс самого похожего пользователя max_index, т.е. посчитайте косинусное сходство между этим пользователем и всеми пользователями из массива user_stats.\n",
    "Нумерацию индексов следует начинать с 0"
   ]
  },
  {
   "cell_type": "code",
   "execution_count": 5,
   "id": "299db1eb",
   "metadata": {},
   "outputs": [],
   "source": [
    "users_stats = np.array(\n",
    "    [\n",
    "        [2, 1, 0, 0, 0, 0],\n",
    "        [1, 1, 2, 1, 0, 0],\n",
    "        [2, 0, 1, 0, 0, 0],\n",
    "        [1, 1, 2, 1, 0, 1],\n",
    "        [0, 0, 1, 2, 0, 0],\n",
    "        [0, 0, 0, 0, 0, 5],\n",
    "        [1, 0, 0, 0, 0, 0],\n",
    "        [0, 1, 1, 0, 0, 0],\n",
    "        [0, 0, 0, 1, 1, 3],\n",
    "        [1, 0, 0, 2, 1, 4]\n",
    "    ], \n",
    ")\n",
    "\n",
    "next_user_stats = np.array([0, 1, 2, 0, 0, 0])"
   ]
  },
  {
   "cell_type": "code",
   "execution_count": 6,
   "id": "9c425722",
   "metadata": {},
   "outputs": [],
   "source": [
    "def cosine(a, b):\n",
    "    \"\"\"\n",
    "    Считает косинус угла между векторами a, b по их длине.\n",
    "    \"\"\"\n",
    "    a_length = np.linalg.norm(a)\n",
    "    b_length = np.linalg.norm(b)\n",
    "    \n",
    "    return np.dot(a, b) / (a_length * b_length)"
   ]
  },
  {
   "cell_type": "code",
   "execution_count": 7,
   "id": "f3be3527",
   "metadata": {},
   "outputs": [
    {
     "data": {
      "text/plain": [
       "7"
      ]
     },
     "execution_count": 7,
     "metadata": {},
     "output_type": "execute_result"
    }
   ],
   "source": [
    "def find_max_resemblance(user_stats, next_user_stats):\n",
    "    \"\"\"\n",
    "    Находит идекс пользователя максимально похожего на данного нам.\n",
    "    \"\"\"\n",
    "    cosine_users = [cosine(next_user_stats, user) for user in users_stats]\n",
    "    return cosine_users.index(max(cosine_users))\n",
    "\n",
    "find_max_resemblance(users_stats, next_user_stats)"
   ]
  },
  {
   "cell_type": "code",
   "execution_count": null,
   "id": "6eab7b70",
   "metadata": {},
   "outputs": [],
   "source": []
  }
 ],
 "metadata": {
  "kernelspec": {
   "display_name": "Python 3 (ipykernel)",
   "language": "python",
   "name": "python3"
  },
  "language_info": {
   "codemirror_mode": {
    "name": "ipython",
    "version": 3
   },
   "file_extension": ".py",
   "mimetype": "text/x-python",
   "name": "python",
   "nbconvert_exporter": "python",
   "pygments_lexer": "ipython3",
   "version": "3.10.5"
  }
 },
 "nbformat": 4,
 "nbformat_minor": 5
}
